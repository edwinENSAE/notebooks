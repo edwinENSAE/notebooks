{
 "cells": [
  {
   "cell_type": "code",
   "execution_count": null,
   "metadata": {
    "collapsed": true
   },
   "outputs": [],
   "source": [
    "# Logistic and linear regression with first order methods"
   ]
  },
  {
   "cell_type": "markdown",
   "metadata": {},
   "source": [
    "Notebook to play with a few first order optimization methods. Currently covers proximal algorithms for l1 and l2 regularization as well as more recent stochastic methods like SAG and MISO. Optimization is done either on the least squares or logistic loss.\n",
    "\n",
    "### Table of content\n",
    "\n",
    "[1. Loss function and gradients](#loss)<br>\n",
    "[2. Proximal gradient derived from a majorization-minimization method](#mm_method)<br>\n",
    "[3. Proximal operators](#prox)<br>\n",
    "[4. Full gradient methods (GD, ISTA, FISTA)](#full)<br>\n",
    "[5. Stochastic methods (SGD, SAG, MISO, SDCA, SVRG)](#stoc)<br>\n",
    "[6. Generate  dataset](#data)<br>\n",
    "[7. Optimize (full gradient)](#optf)<br>"
   ]
  },
  {
   "cell_type": "code",
   "execution_count": 64,
   "metadata": {
    "collapsed": false
   },
   "outputs": [],
   "source": [
    "import numpy as np\n",
    "import math\n",
    "from numpy.linalg import norm\n",
    "\n",
    "%matplotlib inline\n",
    "import matplotlib.pylab as plt\n",
    "\n",
    "from scipy.stats import bernoulli\n",
    "from sklearn import linear_model\n",
    "from scipy import linalg\n",
    "\n"
   ]
  },
  {
   "cell_type": "markdown",
   "metadata": {},
   "source": [
    "<a id='loss'></a> \n",
    "## Loss functions and gradients"
   ]
  },
  {
   "cell_type": "markdown",
   "metadata": {},
   "source": [
    "Least squares:\n",
    "\n",
    "$$\n",
    "\\begin{align*}\n",
    "\\ell(\\theta; \\mathbf{x}, \\mathbf{y}) = \\frac{1}{2n}\\sum_{i=1}^n(\\theta^Tx_i - y_i)^2 \\\\\n",
    "\\frac{\\partial \\ell(\\theta; \\mathbf{x}, \\mathbf{y})}{\\partial\\theta} = \\frac{1}{n}\\sum_{i=1}^n(\\theta^Tx_i - y_i)x_i \\\\ \n",
    "\\end{align*}\n",
    "$$"
   ]
  },
  {
   "cell_type": "markdown",
   "metadata": {},
   "source": [
    "We use 2D numpy array for `features` and `labels` to take advantage of array magic."
   ]
  },
  {
   "cell_type": "code",
   "execution_count": 100,
   "metadata": {
    "collapsed": false
   },
   "outputs": [],
   "source": [
    "def least_squares(x, features, labels):\n",
    "    \"\"\"Evaluates the least square function.\"\"\"\n",
    "    n_samples = features.shape[0]\n",
    "    x = x.reshape(1, n_features)\n",
    "    loss_array = (features.dot(x.T) - labels) ** 2\n",
    "    return np.sum(loss_array, axis=0) / (2. * n_samples)\n",
    "def least_squares_unlab(w, X, y):\n",
    "    \"\"\"Evaluates the least square function.\"\"\"\n",
    "    n = len(y)\n",
    "    N = X.shape[0]\n",
    "    n_samples = features.shape[0]\n",
    "    w = w.reshape(1, p)  # Added for scipy.optimize compatibility\n",
    "    loss_array = (X[:n,].dot(w.T) - labels) ** 2\n",
    "    return np.sum(loss_array, axis=0) / (2. * n)"
   ]
  },
  {
   "cell_type": "code",
   "execution_count": 101,
   "metadata": {
    "collapsed": false
   },
   "outputs": [],
   "source": [
    "def least_squares_grad(x, features, labels):\n",
    "    \"\"\"Evaluates the gradient of the least square function.\"\"\"\n",
    "    n_samples = features.shape[0]\n",
    "    x = x.reshape(1, n_features)  # Added for scipy.optimize compatibility\n",
    "    grad_array = (features.dot(x.T) - labels) * features\n",
    "    return np.sum(grad_array, axis=0) / n_samples\n",
    "\n",
    "def least_squares_unlab_grad(w, X, y):\n",
    "    \"\"\"Evaluates the gradient of the least square function.\"\"\"\n",
    "    n = len(y)\n",
    "    N = X.shape[0]\n",
    "    n_samples = features.shape[0]\n",
    "    w = w.reshape(1, p)  # Added for scipy.optimize compatibility\n",
    "    grad_array = X.dot(w.T)#* X  - y * X[:n,]\n",
    "    return np.sum(grad_array, axis=0) / n"
   ]
  },
  {
   "cell_type": "markdown",
   "metadata": {},
   "source": [
    "<a id='mm_method'></a> \n",
    "## Proximal gradient derived from a majorization-minimization method\n",
    "\n",
    "Let's say we would like to minimize $f + g$, with $f: \\mathbb{R}^n \\rightarrow \\mathbb{R}$ a convex, $\\beta$-smooth function and $g$ a convex function with a simple proximal operator.\n",
    "\n",
    "A simple upper bound on $f+g$ is:\n",
    "\n",
    "$$\n",
    "\\begin{align*} \n",
    "f(y) + g(y) & \\leq \\{f(x) + \\nabla{f(x)^T}(y - x) + \\frac{1}{2\\lambda}\\|x-y\\|_{2}^2 + g(y)\\\\\n",
    "& = q_\\lambda(x, y),\n",
    "\\end{align*}\n",
    "$$\n",
    "where $\\lambda \\in (0, 1/\\beta]$.\n",
    "\n",
    "Iteratively minimizing $q_\\lambda(x^t, \\cdot)$ will converge the minimum of $f+g$ \n",
    "$$\n",
    "\\DeclareMathOperator*{\\argmin}{argmin}\n",
    "\\DeclareMathOperator*{\\prox}{prox}\n",
    "$$\n",
    "$$\n",
    "\\begin{align*} \n",
    "\\argmin_x q_\\lambda(x^t, x) & = \\argmin_x \\{f(x^t) + \\nabla{f(x^t)^T}(x - x^t) + \\frac{1}{2\\lambda}\\|x-x^t\\|_{2}^2 + g(x)\\} \\\\ \n",
    "& = \\argmin_x \\{\\frac{1}{2}\\|x - (x^t - \\lambda\\nabla f(x^t))\\|_2^2 + \\lambda g(x)\\} \\\\\n",
    "& = \\text{prox}_{\\lambda g}\\left(x^t - \\lambda\\nabla f(x^t)\\right) \\\\\n",
    "\\end{align*}\n",
    "$$"
   ]
  },
  {
   "cell_type": "markdown",
   "metadata": {},
   "source": [
    "<a id='prox'></a> \n",
    "## Proximal operators\n",
    "\n",
    "The derivation of the proximal operators leads to:\n",
    "\n",
    "$$\n",
    "\\begin{align*}\n",
    "\\text{prox}_{\\lambda\\|\\cdot\\|_1}(v) & = \\text{sign}(v) \\odot (|v| − \\lambda)_+ \\\\\n",
    "\\text{prox}_{\\lambda\\|\\cdot\\|_2^2}(v) & = \\frac{1}{1 + \\lambda} v \\\\\n",
    "\\text{prox}_{\\lambda_1\\|\\cdot\\|_1 + \\lambda_2 / 2\\|\\cdot\\|_2^2}(v) & = \\frac{1}{1 + \\lambda_2} \\text{sign}(v) \\odot (|v| - \\lambda_1)_+\n",
    "\\end{align*}\n",
    "$$"
   ]
  },
  {
   "cell_type": "code",
   "execution_count": 102,
   "metadata": {
    "collapsed": false
   },
   "outputs": [],
   "source": [
    "def prox_l1(x, l=1.):\n",
    "    \"\"\" Proximal operator of the l1 norm.\"\"\"\n",
    "    x_abs = np.abs(x)\n",
    "    return np.sign(x) * (x_abs - l) * (x_abs > l)\n",
    "\n",
    "def prox_l2(x, l=1.):\n",
    "    \"\"\" Proximal operator of the l2 norm.\"\"\"\n",
    "    return 1. / (1 + l) * x\n",
    "\n",
    "def prox_enet(x, l_l1, l_l2, t=1.):\n",
    "    \"\"\"Proximal operator for the elastic net at x\"\"\"\n",
    "    x_abs = np.abs(x)\n",
    "    prox_l1 = np.sign(x) * (x_abs - t * l_l1) * (x_abs > t * l_l1)\n",
    "    return prox_l1 / (1. + t * l_l2)"
   ]
  },
  {
   "cell_type": "markdown",
   "metadata": {},
   "source": [
    "<a id='full'></a> \n",
    "## Full gradient methods (GD, ISTA, FISTA)"
   ]
  },
  {
   "cell_type": "markdown",
   "metadata": {},
   "source": [
    "Before implementing the logic of GD, ISTA or FISTA we provide a simple function to be called after each iteration to gather and display a few metrics about current the minimization process."
   ]
  },
  {
   "cell_type": "code",
   "execution_count": 103,
   "metadata": {
    "collapsed": false
   },
   "outputs": [],
   "source": [
    "def inspector(loss_fun, x_real, verbose=False):\n",
    "    \"\"\"A closure called to update metrics after each iteration.\"\"\"\n",
    "    objectives = []\n",
    "    errors = []\n",
    "    it = [0]  # This is a hack to be able to modify 'it' inside the closure.\n",
    "    def inspector_cl(xk):\n",
    "        obj = loss_fun(xk)\n",
    "        err = norm(xk - x_real) / norm(x_real)\n",
    "        objectives.append(obj)\n",
    "        errors.append(err)\n",
    "        if verbose == True:\n",
    "            if it[0] == 0:\n",
    "                print ' | '.join([name.center(8) for name in [\"it\", \"obj\", \"err\"]])\n",
    "            if it[0] % (n_iter / 5) == 0:\n",
    "                print ' | '.join([(\"%d\" % it[0]).rjust(8), (\"%.2e\" % obj).rjust(8), (\"%.2e\" % err).rjust(8)])\n",
    "            it[0] += 1\n",
    "    inspector_cl.obj = objectives\n",
    "    inspector_cl.err = errors\n",
    "    return inspector_cl"
   ]
  },
  {
   "cell_type": "markdown",
   "metadata": {},
   "source": [
    "And now we can implement the algorithms."
   ]
  },
  {
   "cell_type": "code",
   "execution_count": 88,
   "metadata": {
    "collapsed": false
   },
   "outputs": [],
   "source": [
    "def gd(x_init, grad, n_iter=100, step=1., callback=None):\n",
    "    \"\"\"Basic gradient descent algorithm.\"\"\"\n",
    "    x = x_init.copy()\n",
    "    \n",
    "    for _ in range(n_iter):\n",
    "        x -= step * grad(x)\n",
    "        \n",
    "        # Update metrics after each iteration.\n",
    "        if callback is not None:\n",
    "            callback(x)\n",
    "    return x"
   ]
  },
  {
   "cell_type": "code",
   "execution_count": 104,
   "metadata": {
    "collapsed": false
   },
   "outputs": [],
   "source": [
    "def ista(x_init, grad, prox, n_iter=100, step=1., callback=None):\n",
    "    \"\"\"ISTA algorithm.\"\"\"\n",
    "    x = x_init.copy()\n",
    "    \n",
    "    for _ in range(n_iter):\n",
    "        x = prox(x - step * grad(x), step)\n",
    "        \n",
    "        # Update metrics after each iteration.\n",
    "        if callback is not None:\n",
    "            callback(x)\n",
    "    return x"
   ]
  },
  {
   "cell_type": "code",
   "execution_count": 90,
   "metadata": {
    "collapsed": false
   },
   "outputs": [],
   "source": [
    "def fista(x_init, grad, prox, n_iter=100, step=1., callback=None):\n",
    "    \"\"\"FISTA algorithm.\"\"\"\n",
    "    x = x_init.copy()\n",
    "    y = x_init.copy()\n",
    "    t = 1.\n",
    "    \n",
    "    for _ in range(n_iter):\n",
    "        x_new = prox(y - step * grad(y), step)\n",
    "        t_new = (1. + (1. + 4. * t**2)**.5) / 2\n",
    "        y = x_new + (t - 1) / t_new * (x_new - x)\n",
    "        t = t_new\n",
    "        x = x_new\n",
    "\n",
    "        # Update metrics after each iteration.\n",
    "        if callback is not None:\n",
    "            callback(x)\n",
    "    return x"
   ]
  },
  {
   "cell_type": "markdown",
   "metadata": {},
   "source": [
    "<a id='data'></a> \n",
    "## Generate  dataset"
   ]
  },
  {
   "cell_type": "markdown",
   "metadata": {},
   "source": [
    "We test the above algorithms on a generated dataset. "
   ]
  },
  {
   "cell_type": "code",
   "execution_count": 91,
   "metadata": {
    "collapsed": false
   },
   "outputs": [],
   "source": [
    "#dimension of \\beta\n",
    "p = 100\n",
    "#number of labeled data\n",
    "n = 50\n",
    "#total number of data (labeled + unlabeled data)\n",
    "N = 5000\n",
    "\n",
    "#Data generation\n",
    "proba = 0.5\n",
    "X_all = bernoulli.rvs(proba, size=p*N).reshape((N, p))\n",
    "X_all = 2 * X_all - 1* np.ones_like(X_all)\n",
    "\n",
    "#Labeled data\n",
    "X_lab = X_all[:n, ]\n",
    "\n",
    "#Unlabeled Data\n",
    "X_unlab = X_all[n:,]\n",
    "\n",
    "\n",
    "beta_star = np.zeros(p)\n",
    "#Sparsity parameter s\n",
    "s = 6\n",
    "\n",
    "noise = np.random.normal(0, 1, n)\n",
    "i=1\n",
    "for j in range(s) :\n",
    "  i *= -1\n",
    "  beta_star[j] = i *  1\n",
    "\n",
    "#Penalty parameter\n",
    "lam = math.sqrt(math.log(p)/float(n))\n",
    "\n",
    "#Label\n",
    "y = np.dot(X_lab, beta_star) + noise\n",
    "X = X_all"
   ]
  },
  {
   "cell_type": "code",
   "execution_count": 92,
   "metadata": {
    "collapsed": false
   },
   "outputs": [
    {
     "name": "stdout",
     "output_type": "stream",
     "text": [
      "cond = 811.64\n"
     ]
    }
   ],
   "source": [
    "# Generate a fake dataset\n",
    "\n",
    "n_samples = 2000\n",
    "n_features = 50\n",
    "\n",
    "n = 100\n",
    "p = 100\n",
    "N = 1000\n",
    "#p = n_features\n",
    "#n = n_samples\n",
    "\n",
    "\n",
    "\n",
    "idx = np.arange(n_features).reshape(1, n_features)\n",
    "params = 2 * (-1) ** (idx - 1) * .9**idx\n",
    "params[0, 20:50] = 0\n",
    "diag = np.random.rand(n_features)\n",
    "features = np.random.multivariate_normal(np.zeros(n_features), np.diag(diag), n_samples)\n",
    "\n",
    "# Show the condition number of the gram matrix\n",
    "print \"cond = %.2f\" % (diag.max() / diag.min())"
   ]
  },
  {
   "cell_type": "code",
   "execution_count": 93,
   "metadata": {
    "collapsed": false
   },
   "outputs": [],
   "source": [
    "# Change this to 'False' to estimate the logitic regression model.\n",
    "linear = True\n",
    "if linear == True:\n",
    "    residuals = np.random.randn(n_samples, 1)\n",
    "    labels = features.dot(params.T) + residuals\n",
    "else:\n",
    "    labels = np.array([[float(np.random.rand() < p)] for p in logistic(features.dot(params.T))])"
   ]
  },
  {
   "cell_type": "code",
   "execution_count": 94,
   "metadata": {
    "collapsed": false
   },
   "outputs": [
    {
     "data": {
      "image/png": "[encoded data removed]",
      "text/plain": [
       "<matplotlib.figure.Figure at 0x7f17f5673990>"
      ]
     },
     "metadata": {},
     "output_type": "display_data"
    }
   ],
   "source": [
    "plt.figure(figsize=(8, 4))\n",
    "plt.stem(beta_star)\n",
    "plt.title(\"True parameters\", fontsize=16)\n",
    "plt.show()"
   ]
  },
  {
   "cell_type": "markdown",
   "metadata": {},
   "source": [
    "<a id='optf'></a> \n",
    "## Optimize (full gradient)"
   ]
  },
  {
   "cell_type": "markdown",
   "metadata": {},
   "source": [
    "### Choosing the step size\n",
    "\n",
    "All algorithms use a constant step size set to $1/L$, where $L$ is a Lipschitz constant for the gradient of the loss.\n",
    "\n",
    "1.Least squares\n",
    "\n",
    "$$L = \\frac{ \\|\\mathbf{x}^T \\mathbf{x}\\|_{op}}{n}$$\n"
   ]
  },
  {
   "cell_type": "code",
   "execution_count": 108,
   "metadata": {
    "collapsed": false
   },
   "outputs": [
    {
     "name": "stdout",
     "output_type": "stream",
     "text": [
      "Type: linear\n",
      "n_iter: 30\n",
      "step size: 66.22\n"
     ]
    }
   ],
   "source": [
    "# Initialize stuff\n",
    "# Intialisation of w\n",
    "w = np.ones(p)\n",
    "# l1 penalty parameter\n",
    "alpha = lam\n",
    "# l2 penalty parameter\n",
    "ridge_param = 0\n",
    "\n",
    "\n",
    "\n",
    "n_iter = 30\n",
    "l_l1 = math.sqrt(math.log(p)/n)\n",
    "l_l2 = 0.\n",
    "\n",
    "# f and gradient\n",
    "\n",
    "f = lambda w: least_squares_unlab(w, X, y)\n",
    "grad_f = lambda w: least_squares_unlab_grad(w, X, y)\n",
    "step = norm(X.T.dot(X) / n, 2)\n",
    "\n",
    "# g, F and prox.\n",
    "g = lambda x: l_l1 * np.abs(x).sum()\n",
    "F = lambda x: f(x) + g(x)\n",
    "prox_g = lambda x, l: prox_enet(x, l_l1, l_l2, l)\n",
    "\n",
    "print \"Type: %s\" % ('linear' if linear else 'logistic')\n",
    "print \"n_iter: %d\" % n_iter\n",
    "print \"step size: %.2f\" % step"
   ]
  },
  {
   "cell_type": "code",
   "execution_count": 96,
   "metadata": {
    "collapsed": false
   },
   "outputs": [],
   "source": [
    "import scipy.optimize"
   ]
  },
  {
   "cell_type": "code",
   "execution_count": 97,
   "metadata": {
    "collapsed": false
   },
   "outputs": [
    {
     "name": "stdout",
     "output_type": "stream",
     "text": [
      "[ 0.48580683 -0.44776072  0.67943108 -0.3082401   0.36999268 -0.29653316\n",
      "  0.73223417 -0.01204372  0.2298178  -0.14414642  0.49876368 -0.19767828\n",
      "  0.22170167 -0.02930128  0.12672915 -0.19703185  0.04583403 -0.00819591\n",
      "  0.005524   -0.19630892  0.24310294 -0.3722018  -0.04562031 -0.1612019\n",
      " -0.15329556  0.31320519 -0.13855652 -0.05207039 -0.11342021  0.0933825\n",
      "  0.00081655  0.02102726  0.03703462  0.08022761 -0.00758752  0.09012814\n",
      "  0.00233852 -0.230243   -0.1951407   0.1036178  -0.02873347 -0.00235165\n",
      "  0.18852208 -0.00584383 -0.02546691 -0.02694828  0.03994911 -0.32249033\n",
      "  0.02509177  0.0380069 ]\n",
      "[ 0.48572979 -0.44785714  0.67926269 -0.30830167  0.36993646 -0.29667514\n",
      "  0.73210581 -0.01204624  0.2297471  -0.14417787  0.49864165 -0.19772117\n",
      "  0.22162006 -0.02931214  0.12662097 -0.19710384  0.04581295 -0.0082795\n",
      "  0.00551905 -0.19641478  0.24302609 -0.37234366 -0.04568605 -0.16131207\n",
      " -0.15342438  0.31307632 -0.13867625 -0.05209195 -0.11351108  0.09329384\n",
      "  0.00081635  0.02101529  0.0368979   0.08019539 -0.00759323  0.09003521\n",
      "  0.00233247 -0.23034535 -0.19522835  0.10350397 -0.0287628  -0.00251926\n",
      "  0.18841385 -0.00591053 -0.02554012 -0.02696371  0.0398714  -0.32262131\n",
      "  0.0250785   0.03791912]\n"
     ]
    }
   ],
   "source": []
  },
  {
   "cell_type": "raw",
   "metadata": {},
   "source": []
  },
  {
   "cell_type": "code",
   "execution_count": null,
   "metadata": {
    "collapsed": false
   },
   "outputs": [],
   "source": []
  },
  {
   "cell_type": "code",
   "execution_count": 98,
   "metadata": {
    "collapsed": false
   },
   "outputs": [
    {
     "data": {
      "image/png": "[encoded data removed]",
      "text/plain": [
       "<matplotlib.figure.Figure at 0x7f17f624ea10>"
      ]
     },
     "metadata": {},
     "output_type": "display_data"
    }
   ],
   "source": [
    "plt.figure(figsize=(8, 4))\n",
    "plt.stem(w)\n",
    "plt.title(\"Initial guess\", fontsize=16)\n",
    "plt.show()"
   ]
  },
  {
   "cell_type": "code",
   "execution_count": 109,
   "metadata": {
    "collapsed": false
   },
   "outputs": [
    {
     "ename": "ValueError",
     "evalue": "total size of new array must be unchanged",
     "output_type": "error",
     "traceback": [
      "\u001b[1;31m---------------------------------------------------------------------------\u001b[0m",
      "\u001b[1;31mValueError\u001b[0m                                Traceback (most recent call last)",
      "\u001b[1;32m<ipython-input-109-cca9f2075a55>\u001b[0m in \u001b[0;36m<module>\u001b[1;34m()\u001b[0m\n\u001b[0;32m      1\u001b[0m \u001b[1;31m# ISTA\u001b[0m\u001b[1;33m\u001b[0m\u001b[1;33m\u001b[0m\u001b[0m\n\u001b[0;32m      2\u001b[0m \u001b[0mista_inspector\u001b[0m \u001b[1;33m=\u001b[0m \u001b[0minspector\u001b[0m\u001b[1;33m(\u001b[0m\u001b[0mloss_fun\u001b[0m\u001b[1;33m=\u001b[0m\u001b[0mF\u001b[0m\u001b[1;33m,\u001b[0m \u001b[0mx_real\u001b[0m\u001b[1;33m=\u001b[0m\u001b[0mbeta_star\u001b[0m\u001b[1;33m,\u001b[0m \u001b[0mverbose\u001b[0m\u001b[1;33m=\u001b[0m\u001b[0mTrue\u001b[0m\u001b[1;33m)\u001b[0m\u001b[1;33m\u001b[0m\u001b[0m\n\u001b[1;32m----> 3\u001b[1;33m \u001b[0mx_ista\u001b[0m \u001b[1;33m=\u001b[0m \u001b[0mista\u001b[0m\u001b[1;33m(\u001b[0m\u001b[0mx_init\u001b[0m\u001b[1;33m,\u001b[0m \u001b[0mgrad\u001b[0m\u001b[1;33m=\u001b[0m\u001b[0mgrad_f\u001b[0m\u001b[1;33m,\u001b[0m \u001b[0mprox\u001b[0m\u001b[1;33m=\u001b[0m\u001b[0mprox_g\u001b[0m\u001b[1;33m,\u001b[0m \u001b[0mn_iter\u001b[0m\u001b[1;33m=\u001b[0m\u001b[0mn_iter\u001b[0m\u001b[1;33m,\u001b[0m \u001b[0mstep\u001b[0m\u001b[1;33m=\u001b[0m\u001b[0mstep\u001b[0m\u001b[1;33m,\u001b[0m \u001b[0mcallback\u001b[0m\u001b[1;33m=\u001b[0m\u001b[0mista_inspector\u001b[0m\u001b[1;33m)\u001b[0m\u001b[1;33m\u001b[0m\u001b[0m\n\u001b[0m",
      "\u001b[1;32m<ipython-input-104-dc5ba2c1f4b8>\u001b[0m in \u001b[0;36mista\u001b[1;34m(x_init, grad, prox, n_iter, step, callback)\u001b[0m\n\u001b[0;32m      4\u001b[0m \u001b[1;33m\u001b[0m\u001b[0m\n\u001b[0;32m      5\u001b[0m     \u001b[1;32mfor\u001b[0m \u001b[0m_\u001b[0m \u001b[1;32min\u001b[0m \u001b[0mrange\u001b[0m\u001b[1;33m(\u001b[0m\u001b[0mn_iter\u001b[0m\u001b[1;33m)\u001b[0m\u001b[1;33m:\u001b[0m\u001b[1;33m\u001b[0m\u001b[0m\n\u001b[1;32m----> 6\u001b[1;33m         \u001b[0mx\u001b[0m \u001b[1;33m=\u001b[0m \u001b[0mprox\u001b[0m\u001b[1;33m(\u001b[0m\u001b[0mx\u001b[0m \u001b[1;33m-\u001b[0m \u001b[0mstep\u001b[0m \u001b[1;33m*\u001b[0m \u001b[0mgrad\u001b[0m\u001b[1;33m(\u001b[0m\u001b[0mx\u001b[0m\u001b[1;33m)\u001b[0m\u001b[1;33m,\u001b[0m \u001b[0mstep\u001b[0m\u001b[1;33m)\u001b[0m\u001b[1;33m\u001b[0m\u001b[0m\n\u001b[0m\u001b[0;32m      7\u001b[0m \u001b[1;33m\u001b[0m\u001b[0m\n\u001b[0;32m      8\u001b[0m         \u001b[1;31m# Update metrics after each iteration.\u001b[0m\u001b[1;33m\u001b[0m\u001b[1;33m\u001b[0m\u001b[0m\n",
      "\u001b[1;32m<ipython-input-108-1acc94423e23>\u001b[0m in \u001b[0;36m<lambda>\u001b[1;34m(w)\u001b[0m\n\u001b[0;32m     16\u001b[0m \u001b[1;32mif\u001b[0m \u001b[0mlinear\u001b[0m \u001b[1;33m==\u001b[0m \u001b[0mTrue\u001b[0m\u001b[1;33m:\u001b[0m\u001b[1;33m\u001b[0m\u001b[0m\n\u001b[0;32m     17\u001b[0m     \u001b[0mf\u001b[0m \u001b[1;33m=\u001b[0m \u001b[1;32mlambda\u001b[0m \u001b[0mw\u001b[0m\u001b[1;33m:\u001b[0m \u001b[0mleast_squares_unlab\u001b[0m\u001b[1;33m(\u001b[0m\u001b[0mw\u001b[0m\u001b[1;33m,\u001b[0m \u001b[0mX\u001b[0m\u001b[1;33m,\u001b[0m \u001b[0my\u001b[0m\u001b[1;33m)\u001b[0m\u001b[1;33m\u001b[0m\u001b[0m\n\u001b[1;32m---> 18\u001b[1;33m     \u001b[0mgrad_f\u001b[0m \u001b[1;33m=\u001b[0m \u001b[1;32mlambda\u001b[0m \u001b[0mw\u001b[0m\u001b[1;33m:\u001b[0m \u001b[0mleast_squares_unlab_grad\u001b[0m\u001b[1;33m(\u001b[0m\u001b[0mw\u001b[0m\u001b[1;33m,\u001b[0m \u001b[0mX\u001b[0m\u001b[1;33m,\u001b[0m \u001b[0my\u001b[0m\u001b[1;33m)\u001b[0m\u001b[1;33m\u001b[0m\u001b[0m\n\u001b[0m\u001b[0;32m     19\u001b[0m     \u001b[0mstep\u001b[0m \u001b[1;33m=\u001b[0m \u001b[0mnorm\u001b[0m\u001b[1;33m(\u001b[0m\u001b[0mX\u001b[0m\u001b[1;33m.\u001b[0m\u001b[0mT\u001b[0m\u001b[1;33m.\u001b[0m\u001b[0mdot\u001b[0m\u001b[1;33m(\u001b[0m\u001b[0mX\u001b[0m\u001b[1;33m)\u001b[0m \u001b[1;33m/\u001b[0m \u001b[0mn\u001b[0m\u001b[1;33m,\u001b[0m \u001b[1;36m2\u001b[0m\u001b[1;33m)\u001b[0m\u001b[1;33m\u001b[0m\u001b[0m\n\u001b[0;32m     20\u001b[0m \u001b[1;32melse\u001b[0m\u001b[1;33m:\u001b[0m\u001b[1;33m\u001b[0m\u001b[0m\n",
      "\u001b[1;32m<ipython-input-101-56714656e1e7>\u001b[0m in \u001b[0;36mleast_squares_unlab_grad\u001b[1;34m(w, X, y)\u001b[0m\n\u001b[0;32m     11\u001b[0m     \u001b[0mN\u001b[0m \u001b[1;33m=\u001b[0m \u001b[0mX\u001b[0m\u001b[1;33m.\u001b[0m\u001b[0mshape\u001b[0m\u001b[1;33m[\u001b[0m\u001b[1;36m0\u001b[0m\u001b[1;33m]\u001b[0m\u001b[1;33m\u001b[0m\u001b[0m\n\u001b[0;32m     12\u001b[0m     \u001b[0mn_samples\u001b[0m \u001b[1;33m=\u001b[0m \u001b[0mfeatures\u001b[0m\u001b[1;33m.\u001b[0m\u001b[0mshape\u001b[0m\u001b[1;33m[\u001b[0m\u001b[1;36m0\u001b[0m\u001b[1;33m]\u001b[0m\u001b[1;33m\u001b[0m\u001b[0m\n\u001b[1;32m---> 13\u001b[1;33m     \u001b[0mw\u001b[0m \u001b[1;33m=\u001b[0m \u001b[0mw\u001b[0m\u001b[1;33m.\u001b[0m\u001b[0mreshape\u001b[0m\u001b[1;33m(\u001b[0m\u001b[1;36m1\u001b[0m\u001b[1;33m,\u001b[0m \u001b[0mp\u001b[0m\u001b[1;33m)\u001b[0m  \u001b[1;31m# Added for scipy.optimize compatibility\u001b[0m\u001b[1;33m\u001b[0m\u001b[0m\n\u001b[0m\u001b[0;32m     14\u001b[0m     \u001b[0mgrad_array\u001b[0m \u001b[1;33m=\u001b[0m \u001b[0mX\u001b[0m\u001b[1;33m.\u001b[0m\u001b[0mdot\u001b[0m\u001b[1;33m(\u001b[0m\u001b[0mw\u001b[0m\u001b[1;33m.\u001b[0m\u001b[0mT\u001b[0m\u001b[1;33m)\u001b[0m\u001b[1;31m#* X  - y * X[:n,]\u001b[0m\u001b[1;33m\u001b[0m\u001b[0m\n\u001b[0;32m     15\u001b[0m     \u001b[1;32mreturn\u001b[0m \u001b[0mnp\u001b[0m\u001b[1;33m.\u001b[0m\u001b[0msum\u001b[0m\u001b[1;33m(\u001b[0m\u001b[0mgrad_array\u001b[0m\u001b[1;33m,\u001b[0m \u001b[0maxis\u001b[0m\u001b[1;33m=\u001b[0m\u001b[1;36m0\u001b[0m\u001b[1;33m)\u001b[0m \u001b[1;33m/\u001b[0m \u001b[0mn\u001b[0m\u001b[1;33m\u001b[0m\u001b[0m\n",
      "\u001b[1;31mValueError\u001b[0m: total size of new array must be unchanged"
     ]
    }
   ],
   "source": [
    "# ISTA\n",
    "ista_inspector = inspector(loss_fun=F, x_real=beta_star, verbose=True)\n",
    "x_ista = ista(x_init, grad=grad_f, prox=prox_g, n_iter=n_iter, step=step, callback=ista_inspector)"
   ]
  },
  {
   "cell_type": "code",
   "execution_count": 54,
   "metadata": {
    "collapsed": false
   },
   "outputs": [
    {
     "name": "stdout",
     "output_type": "stream",
     "text": [
      "   it    |   obj    |   err   \n",
      "       0 | 2.69e+00 | 8.95e-01\n",
      "       6 | 1.17e+00 | 3.91e-01\n",
      "      12 | 1.16e+00 | 3.30e-01\n",
      "      18 | 1.16e+00 | 3.22e-01\n",
      "      24 | 1.16e+00 | 3.23e-01\n"
     ]
    }
   ],
   "source": [
    "# FISTA\n",
    "fista_inspector = inspector(loss_fun=F, x_real=params, verbose=True)\n",
    "x_fista = fista(x_init, grad=grad_f, prox=prox_g, n_iter=n_iter, step=step, callback=fista_inspector)"
   ]
  },
  {
   "cell_type": "code",
   "execution_count": 56,
   "metadata": {
    "collapsed": false
   },
   "outputs": [
    {
     "data": {
      "image/png": "[encoded data removed]",
      "text/plain": [
       "<matplotlib.figure.Figure at 0x7f17f5ed3e90>"
      ]
     },
     "metadata": {},
     "output_type": "display_data"
    }
   ],
   "source": [
    "plt.figure(figsize=(18, 5))\n",
    "plt.suptitle(\"Final estimates\", fontsize=18)\n",
    "plt.subplot(1, 4, 1)\n",
    "plt.title(\"Real params\")\n",
    "plt.stem(params[0])\n",
    "plt.subplot(1, 4, 2)\n",
    "plt.title(\"ISTA\")\n",
    "plt.stem(x_ista[0], color='red')\n",
    "plt.subplot(1, 4, 3)\n",
    "plt.title(\"FISTA\")\n",
    "plt.stem(x_fista[0])\n",
    "plt.subplot(1, 4, 4)\n",
    "plt.title(\"GD\")\n",
    "plt.stem(x_gd[0])\n",
    "plt.show()"
   ]
  },
  {
   "cell_type": "code",
   "execution_count": 29,
   "metadata": {
    "collapsed": false
   },
   "outputs": [
    {
     "data": {
      "image/png": "[encoded data removed]",
      "text/plain": [
       "<matplotlib.figure.Figure at 0x7f17f6459850>"
      ]
     },
     "metadata": {},
     "output_type": "display_data"
    }
   ],
   "source": [
    "plt.figure(figsize=(17, 5))\n",
    "plt.subplot(1, 2, 1)\n",
    "plt.plot(gd_inspector.obj, 'b')\n",
    "plt.plot(ista_inspector.obj, 'r')\n",
    "plt.plot(fista_inspector.obj, 'g')\n",
    "plt.title(\"Loss\", fontsize=18)\n",
    "plt.xlabel(\"iteration\", fontsize=14)\n",
    "plt.ylabel(\"value\", fontsize=14)\n",
    "plt.legend([\"gd\", \"ista\", \"fista\"])\n",
    "plt.subplot(1, 2, 2)\n",
    "plt.plot(gd_inspector.err, 'b')\n",
    "plt.plot(ista_inspector.err, 'r')\n",
    "plt.plot(fista_inspector.err, 'g')\n",
    "plt.title(\"Distance to x_real\", fontsize=18)\n",
    "plt.xlabel(\"iteration\", fontsize=14)\n",
    "plt.ylabel(\"distance\", fontsize=14)\n",
    "plt.legend([\"gd\", \"ista\", \"fista\"])\n",
    "plt.show()"
   ]
  }
 ],
 "metadata": {
  "kernelspec": {
   "display_name": "Python 2",
   "language": "python",
   "name": "python2"
  },
  "language_info": {
   "codemirror_mode": {
    "name": "ipython",
    "version": 2
   },
   "file_extension": ".py",
   "mimetype": "text/x-python",
   "name": "python",
   "nbconvert_exporter": "python",
   "pygments_lexer": "ipython2",
   "version": "2.7.10"
  }
 },
 "nbformat": 4,
 "nbformat_minor": 0
}
