{
 "cells": [
  {
   "cell_type": "markdown",
   "metadata": {},
   "source": [
    "# Logistic and linear regression with first order methods"
   ]
  },
  {
   "cell_type": "markdown",
   "metadata": {},
   "source": [
    "Notebook to play with a few first order optimization methods. Currently covers proximal algorithms for l1 and l2 regularization as well as more recent stochastic methods like SAG and MISO. Optimization is done either on the least squares or logistic loss.\n",
    "\n",
    "### Table of content\n",
    "\n",
    "[1. Loss function and gradients](#loss)<br>\n",
    "[2. Proximal gradient derived from a majorization-minimization method](#mm_method)<br>\n",
    "[3. Proximal operators](#prox)<br>\n",
    "[4. Full gradient methods (GD, ISTA, FISTA)](#full)<br>\n",
    "[5. Stochastic methods (SGD, SAG, MISO, SDCA, SVRG)](#stoc)<br>\n",
    "[6. Generate  dataset](#data)<br>\n",
    "[7. Optimize (full gradient)](#optf)<br>"
   ]
  },
  {
   "cell_type": "code",
   "execution_count": 44,
   "metadata": {
    "collapsed": false
   },
   "outputs": [],
   "source": [
    "import numpy as np\n",
    "import math\n",
    "from numpy.linalg import norm\n",
    "\n",
    "%matplotlib inline\n",
    "import matplotlib.pylab as plt"
   ]
  },
  {
   "cell_type": "markdown",
   "metadata": {},
   "source": [
    "<a id='loss'></a> \n",
    "## Loss functions and gradients"
   ]
  },
  {
   "cell_type": "markdown",
   "metadata": {},
   "source": [
    "Least squares:\n",
    "\n",
    "$$\n",
    "\\begin{align*}\n",
    "\\ell(\\theta; \\mathbf{x}, \\mathbf{y}) = \\frac{1}{2n}\\sum_{i=1}^n(\\theta^Tx_i - y_i)^2 \\\\\n",
    "\\frac{\\partial \\ell(\\theta; \\mathbf{x}, \\mathbf{y})}{\\partial\\theta} = \\frac{1}{n}\\sum_{i=1}^n(\\theta^Tx_i - y_i)x_i \\\\ \n",
    "\\end{align*}\n",
    "$$"
   ]
  },
  {
   "cell_type": "markdown",
   "metadata": {},
   "source": [
    "We use 2D numpy array for `features` and `labels` to take advantage of array magic."
   ]
  },
  {
   "cell_type": "code",
   "execution_count": 2,
   "metadata": {
    "collapsed": false
   },
   "outputs": [],
   "source": [
    "def least_squares(x, features, labels):\n",
    "    \"\"\"Evaluates the least square function.\"\"\"\n",
    "    n_samples = features.shape[0]\n",
    "    x = x.reshape(1, n_features)\n",
    "    loss_array = (features.dot(x.T) - labels) ** 2\n",
    "    return np.sum(loss_array, axis=0) / (2. * n_samples)"
   ]
  },
  {
   "cell_type": "code",
   "execution_count": 3,
   "metadata": {
    "collapsed": false
   },
   "outputs": [],
   "source": [
    "def least_squares_grad(x, features, labels):\n",
    "    \"\"\"Evaluates the gradient of the least square function.\"\"\"\n",
    "    n_samples = features.shape[0]\n",
    "    x = x.reshape(1, n_features)  # Added for scipy.optimize compatibility\n",
    "    grad_array = (features.dot(x.T) - labels) * features\n",
    "    return np.sum(grad_array, axis=0) / n_samples"
   ]
  },
  {
   "cell_type": "markdown",
   "metadata": {},
   "source": [
    "<a id='mm_method'></a> \n",
    "## Proximal gradient derived from a majorization-minimization method\n",
    "\n",
    "Let's say we would like to minimize $f + g$, with $f: \\mathbb{R}^n \\rightarrow \\mathbb{R}$ a convex, $\\beta$-smooth function and $g$ a convex function with a simple proximal operator.\n",
    "\n",
    "A simple upper bound on $f+g$ is:\n",
    "\n",
    "$$\n",
    "\\begin{align*} \n",
    "f(y) + g(y) & \\leq \\{f(x) + \\nabla{f(x)^T}(y - x) + \\frac{1}{2\\lambda}\\|x-y\\|_{2}^2 + g(y)\\\\\n",
    "& = q_\\lambda(x, y),\n",
    "\\end{align*}\n",
    "$$\n",
    "where $\\lambda \\in (0, 1/\\beta]$.\n",
    "\n",
    "Iteratively minimizing $q_\\lambda(x^t, \\cdot)$ will converge the minimum of $f+g$ \n",
    "$$\n",
    "\\DeclareMathOperator*{\\argmin}{argmin}\n",
    "\\DeclareMathOperator*{\\prox}{prox}\n",
    "$$\n",
    "$$\n",
    "\\begin{align*} \n",
    "\\argmin_x q_\\lambda(x^t, x) & = \\argmin_x \\{f(x^t) + \\nabla{f(x^t)^T}(x - x^t) + \\frac{1}{2\\lambda}\\|x-x^t\\|_{2}^2 + g(x)\\} \\\\ \n",
    "& = \\argmin_x \\{\\frac{1}{2}\\|x - (x^t - \\lambda\\nabla f(x^t))\\|_2^2 + \\lambda g(x)\\} \\\\\n",
    "& = \\text{prox}_{\\lambda g}\\left(x^t - \\lambda\\nabla f(x^t)\\right) \\\\\n",
    "\\end{align*}\n",
    "$$"
   ]
  },
  {
   "cell_type": "markdown",
   "metadata": {},
   "source": [
    "<a id='prox'></a> \n",
    "## Proximal operators\n",
    "\n",
    "The derivation of the proximal operators leads to:\n",
    "\n",
    "$$\n",
    "\\begin{align*}\n",
    "\\text{prox}_{\\lambda\\|\\cdot\\|_1}(v) & = \\text{sign}(v) \\odot (|v| − \\lambda)_+ \\\\\n",
    "\\text{prox}_{\\lambda\\|\\cdot\\|_2^2}(v) & = \\frac{1}{1 + \\lambda} v \\\\\n",
    "\\text{prox}_{\\lambda_1\\|\\cdot\\|_1 + \\lambda_2 / 2\\|\\cdot\\|_2^2}(v) & = \\frac{1}{1 + \\lambda_2} \\text{sign}(v) \\odot (|v| - \\lambda_1)_+\n",
    "\\end{align*}\n",
    "$$"
   ]
  },
  {
   "cell_type": "code",
   "execution_count": 7,
   "metadata": {
    "collapsed": false
   },
   "outputs": [],
   "source": [
    "def prox_l1(x, l=1.):\n",
    "    \"\"\" Proximal operator of the l1 norm.\"\"\"\n",
    "    x_abs = np.abs(x)\n",
    "    return np.sign(x) * (x_abs - l) * (x_abs > l)\n",
    "\n",
    "def prox_l2(x, l=1.):\n",
    "    \"\"\" Proximal operator of the l2 norm.\"\"\"\n",
    "    return 1. / (1 + l) * x\n",
    "\n",
    "def prox_enet(x, l_l1, l_l2, t=1.):\n",
    "    \"\"\"Proximal operator for the elastic net at x\"\"\"\n",
    "    x_abs = np.abs(x)\n",
    "    prox_l1 = np.sign(x) * (x_abs - t * l_l1) * (x_abs > t * l_l1)\n",
    "    return prox_l1 / (1. + t * l_l2)"
   ]
  },
  {
   "cell_type": "markdown",
   "metadata": {},
   "source": [
    "<a id='full'></a> \n",
    "## Full gradient methods (GD, ISTA, FISTA)"
   ]
  },
  {
   "cell_type": "markdown",
   "metadata": {},
   "source": [
    "Before implementing the logic of GD, ISTA or FISTA we provide a simple function to be called after each iteration to gather and display a few metrics about current the minimization process."
   ]
  },
  {
   "cell_type": "code",
   "execution_count": 8,
   "metadata": {
    "collapsed": false
   },
   "outputs": [],
   "source": [
    "def inspector(loss_fun, x_real, verbose=False):\n",
    "    \"\"\"A closure called to update metrics after each iteration.\"\"\"\n",
    "    objectives = []\n",
    "    errors = []\n",
    "    it = [0]  # This is a hack to be able to modify 'it' inside the closure.\n",
    "    def inspector_cl(xk):\n",
    "        obj = loss_fun(xk)\n",
    "        err = norm(xk - x_real) / norm(x_real)\n",
    "        objectives.append(obj)\n",
    "        errors.append(err)\n",
    "        if verbose == True:\n",
    "            if it[0] == 0:\n",
    "                print ' | '.join([name.center(8) for name in [\"it\", \"obj\", \"err\"]])\n",
    "            if it[0] % (n_iter / 5) == 0:\n",
    "                print ' | '.join([(\"%d\" % it[0]).rjust(8), (\"%.2e\" % obj).rjust(8), (\"%.2e\" % err).rjust(8)])\n",
    "            it[0] += 1\n",
    "    inspector_cl.obj = objectives\n",
    "    inspector_cl.err = errors\n",
    "    return inspector_cl"
   ]
  },
  {
   "cell_type": "markdown",
   "metadata": {},
   "source": [
    "And now we can implement the algorithms."
   ]
  },
  {
   "cell_type": "code",
   "execution_count": 9,
   "metadata": {
    "collapsed": false
   },
   "outputs": [],
   "source": [
    "def gd(x_init, grad, n_iter=100, step=1., callback=None):\n",
    "    \"\"\"Basic gradient descent algorithm.\"\"\"\n",
    "    x = x_init.copy()\n",
    "    \n",
    "    for _ in range(n_iter):\n",
    "        x -= step * grad(x)\n",
    "        \n",
    "        # Update metrics after each iteration.\n",
    "        if callback is not None:\n",
    "            callback(x)\n",
    "    return x"
   ]
  },
  {
   "cell_type": "code",
   "execution_count": 10,
   "metadata": {
    "collapsed": false
   },
   "outputs": [],
   "source": [
    "def ista(x_init, grad, prox, n_iter=100, step=1., callback=None):\n",
    "    \"\"\"ISTA algorithm.\"\"\"\n",
    "    x = x_init.copy()\n",
    "    \n",
    "    for _ in range(n_iter):\n",
    "        x = prox(x - step * grad(x), step)\n",
    "        \n",
    "        # Update metrics after each iteration.\n",
    "        if callback is not None:\n",
    "            callback(x)\n",
    "    return x"
   ]
  },
  {
   "cell_type": "code",
   "execution_count": 11,
   "metadata": {
    "collapsed": false
   },
   "outputs": [],
   "source": [
    "def fista(x_init, grad, prox, n_iter=100, step=1., callback=None):\n",
    "    \"\"\"FISTA algorithm.\"\"\"\n",
    "    x = x_init.copy()\n",
    "    y = x_init.copy()\n",
    "    t = 1.\n",
    "    \n",
    "    for _ in range(n_iter):\n",
    "        x_new = prox(y - step * grad(y), step)\n",
    "        t_new = (1. + (1. + 4. * t**2)**.5) / 2\n",
    "        y = x_new + (t - 1) / t_new * (x_new - x)\n",
    "        t = t_new\n",
    "        x = x_new\n",
    "\n",
    "        # Update metrics after each iteration.\n",
    "        if callback is not None:\n",
    "            callback(x)\n",
    "    return x"
   ]
  },
  {
   "cell_type": "markdown",
   "metadata": {},
   "source": [
    "<a id='data'></a> \n",
    "## Generate  dataset"
   ]
  },
  {
   "cell_type": "markdown",
   "metadata": {},
   "source": [
    "We test the above algorithms on a generated dataset. "
   ]
  },
  {
   "cell_type": "code",
   "execution_count": 45,
   "metadata": {
    "collapsed": false
   },
   "outputs": [
    {
     "name": "stdout",
     "output_type": "stream",
     "text": [
      "cond = 296.91\n"
     ]
    }
   ],
   "source": [
    "# Generate a fake dataset\n",
    "\n",
    "n_samples = 2000\n",
    "n_features = 50\n",
    "#p = n_features\n",
    "#n = n_samples\n",
    "\n",
    "idx = np.arange(n_features).reshape(1, n_features)\n",
    "params = 2 * (-1) ** (idx - 1) * .9**idx\n",
    "params[0, 20:50] = 0\n",
    "diag = np.random.rand(n_features)\n",
    "features = np.random.multivariate_normal(np.zeros(n_features), np.diag(diag), n_samples)\n",
    "\n",
    "# Show the condition number of the gram matrix\n",
    "print \"cond = %.2f\" % (diag.max() / diag.min())"
   ]
  },
  {
   "cell_type": "code",
   "execution_count": 46,
   "metadata": {
    "collapsed": false
   },
   "outputs": [],
   "source": [
    "# Change this to 'False' to estimate the logitic regression model.\n",
    "linear = True\n",
    "if linear == True:\n",
    "    residuals = np.random.randn(n_samples, 1)\n",
    "    labels = features.dot(params.T) + residuals\n",
    "else:\n",
    "    labels = np.array([[float(np.random.rand() < p)] for p in logistic(features.dot(params.T))])"
   ]
  },
  {
   "cell_type": "code",
   "execution_count": 47,
   "metadata": {
    "collapsed": false
   },
   "outputs": [
    {
     "data": {
      "image/png": "[encoded data removed]",
      "text/plain": [
       "<matplotlib.figure.Figure at 0x7f17f663e110>"
      ]
     },
     "metadata": {},
     "output_type": "display_data"
    }
   ],
   "source": [
    "plt.figure(figsize=(8, 4))\n",
    "plt.stem(params[0])\n",
    "plt.title(\"True parameters\", fontsize=16)\n",
    "plt.show()"
   ]
  },
  {
   "cell_type": "markdown",
   "metadata": {},
   "source": [
    "<a id='optf'></a> \n",
    "## Optimize (full gradient)"
   ]
  },
  {
   "cell_type": "markdown",
   "metadata": {},
   "source": [
    "### Choosing the step size\n",
    "\n",
    "All algorithms use a constant step size set to $1/L$, where $L$ is a Lipschitz constant for the gradient of the loss.\n",
    "\n",
    "1.Least squares\n",
    "\n",
    "$$L = \\frac{ \\|\\mathbf{x}^T \\mathbf{x}\\|_{op}}{n}$$\n"
   ]
  },
  {
   "cell_type": "code",
   "execution_count": 49,
   "metadata": {
    "collapsed": false
   },
   "outputs": [
    {
     "name": "stdout",
     "output_type": "stream",
     "text": [
      "Type: linear\n",
      "n_iter: 30\n",
      "step size: 1.08\n"
     ]
    }
   ],
   "source": [
    "# Initialize stuff\n",
    "x_init = 1 - 2 * np.random.rand(1, n_features)\n",
    "n_iter = 30\n",
    "l_l1 = math.sqrt(math.log(n_features)/n_samples)\n",
    "l_l2 = 0.\n",
    "\n",
    "# f and gradient\n",
    "if linear == True:\n",
    "    f = lambda x: least_squares(x, features, labels)\n",
    "    grad_f = lambda x: least_squares_grad(x, features, labels)\n",
    "    step = norm(features.T.dot(features) / n_samples, 2)\n",
    "else:\n",
    "    f = lambda x: logistic_loss(x, features, labels)[0]\n",
    "    grad_f = lambda x: logistic_loss_grad(x, features, labels)\n",
    "    step = 1. # np.sum(features**2, axis=1).max() / (4 * n_samples)\n",
    "\n",
    "# g, F and prox.\n",
    "g = lambda x: l_l1 * np.abs(x).sum() + 0.5 * l_l2 * np.sum(x**2)\n",
    "F = lambda x: f(x) + g(x)\n",
    "prox_g = lambda x, l: prox_enet(x, l_l1, l_l2, l)\n",
    "\n",
    "print \"Type: %s\" % ('linear' if linear else 'logistic')\n",
    "print \"n_iter: %d\" % n_iter\n",
    "print \"step size: %.2f\" % step"
   ]
  },
  {
   "cell_type": "code",
   "execution_count": 50,
   "metadata": {
    "collapsed": false
   },
   "outputs": [],
   "source": [
    "import scipy.optimize"
   ]
  },
  {
   "cell_type": "code",
   "execution_count": 51,
   "metadata": {
    "collapsed": false
   },
   "outputs": [
    {
     "name": "stdout",
     "output_type": "stream",
     "text": [
      "[ 0.86252706 -0.53880117  0.07497409 -0.04822318  0.30037181 -0.35338673\n",
      "  0.10028851 -0.05200453  0.02833377 -0.54384767  0.20351079 -0.04972858\n",
      "  0.28368366 -0.12636151  0.0465365  -0.25224384  0.13593915  0.04549726\n",
      "  0.12676693  0.00298856  0.17872758 -0.27925301  0.02136403 -0.10967891\n",
      " -0.07177093  0.01478326 -0.14470504 -0.29661811 -0.02236267  0.0535997\n",
      " -0.05093519  0.07205769  0.08338914  0.07728902 -0.09067809  0.18568211\n",
      "  0.16676516 -0.15919519 -0.09419322  0.13196298 -0.19546122  0.00710509\n",
      "  0.03201153 -0.02867224 -0.01415851 -0.0094774   0.02841377 -0.054247\n",
      "  0.25652626  0.00807602]\n",
      "[ 0.86238815 -0.5389553   0.07495453 -0.04823061  0.30032883 -0.35355158\n",
      "  0.10026802 -0.05203301  0.02832457 -0.54399009  0.2034579  -0.04974907\n",
      "  0.28357004 -0.12644078  0.04651266 -0.25236171  0.1358737   0.04546191\n",
      "  0.12671288  0.00298798  0.17865842 -0.27940306  0.02130185 -0.10974503\n",
      " -0.07181833  0.01477313 -0.14481076 -0.29678023 -0.0224026   0.05345318\n",
      " -0.0509717   0.07195813  0.08333639  0.07718982 -0.09080352  0.18557179\n",
      "  0.16666978 -0.15924462 -0.09422549  0.13186287 -0.19555779  0.00695375\n",
      "  0.03200276 -0.02868867 -0.01423315 -0.00948195  0.02839634 -0.05426156\n",
      "  0.2564266   0.00802875]\n"
     ]
    }
   ],
   "source": [
    "ls = lambda x: logistic_loss(x, features, labels)\n",
    "print scipy.optimize.approx_fprime(x_init.ravel(), ls, 1e-3)\n",
    "print logistic_loss_grad(x_init, features, labels)"
   ]
  },
  {
   "cell_type": "raw",
   "metadata": {},
   "source": []
  },
  {
   "cell_type": "code",
   "execution_count": null,
   "metadata": {
    "collapsed": false
   },
   "outputs": [],
   "source": []
  },
  {
   "cell_type": "code",
   "execution_count": 52,
   "metadata": {
    "collapsed": false
   },
   "outputs": [
    {
     "data": {
      "image/png": "[encoded data removed]",
      "text/plain": [
       "<matplotlib.figure.Figure at 0x7f17f57acc90>"
      ]
     },
     "metadata": {},
     "output_type": "display_data"
    }
   ],
   "source": [
    "plt.figure(figsize=(8, 4))\n",
    "plt.stem(x_init[0])\n",
    "plt.title(\"Initial guess\", fontsize=16)\n",
    "plt.show()"
   ]
  },
  {
   "cell_type": "code",
   "execution_count": 53,
   "metadata": {
    "collapsed": false
   },
   "outputs": [
    {
     "name": "stdout",
     "output_type": "stream",
     "text": [
      "   it    |   obj    |   err   \n",
      "       0 | 2.69e+00 | 8.95e-01\n",
      "       6 | 1.24e+00 | 4.74e-01\n",
      "      12 | 1.17e+00 | 3.95e-01\n",
      "      18 | 1.16e+00 | 3.69e-01\n",
      "      24 | 1.16e+00 | 3.54e-01\n"
     ]
    }
   ],
   "source": [
    "# ISTA\n",
    "ista_inspector = inspector(loss_fun=F, x_real=params, verbose=True)\n",
    "x_ista = ista(x_init, grad=grad_f, prox=prox_g, n_iter=n_iter, step=step, callback=ista_inspector)"
   ]
  },
  {
   "cell_type": "code",
   "execution_count": 54,
   "metadata": {
    "collapsed": false
   },
   "outputs": [
    {
     "name": "stdout",
     "output_type": "stream",
     "text": [
      "   it    |   obj    |   err   \n",
      "       0 | 2.69e+00 | 8.95e-01\n",
      "       6 | 1.17e+00 | 3.91e-01\n",
      "      12 | 1.16e+00 | 3.30e-01\n",
      "      18 | 1.16e+00 | 3.22e-01\n",
      "      24 | 1.16e+00 | 3.23e-01\n"
     ]
    }
   ],
   "source": [
    "# FISTA\n",
    "fista_inspector = inspector(loss_fun=F, x_real=params, verbose=True)\n",
    "x_fista = fista(x_init, grad=grad_f, prox=prox_g, n_iter=n_iter, step=step, callback=fista_inspector)"
   ]
  },
  {
   "cell_type": "code",
   "execution_count": 56,
   "metadata": {
    "collapsed": false
   },
   "outputs": [
    {
     "data": {
      "image/png": "[encoded data removed]",
      "text/plain": [
       "<matplotlib.figure.Figure at 0x7f17f5ed3e90>"
      ]
     },
     "metadata": {},
     "output_type": "display_data"
    }
   ],
   "source": [
    "plt.figure(figsize=(18, 5))\n",
    "plt.suptitle(\"Final estimates\", fontsize=18)\n",
    "plt.subplot(1, 4, 1)\n",
    "plt.title(\"Real params\")\n",
    "plt.stem(params[0])\n",
    "plt.subplot(1, 4, 2)\n",
    "plt.title(\"ISTA\")\n",
    "plt.stem(x_ista[0], color='red')\n",
    "plt.subplot(1, 4, 3)\n",
    "plt.title(\"FISTA\")\n",
    "plt.stem(x_fista[0])\n",
    "plt.subplot(1, 4, 4)\n",
    "plt.title(\"GD\")\n",
    "plt.stem(x_gd[0])\n",
    "plt.show()"
   ]
  },
  {
   "cell_type": "code",
   "execution_count": 29,
   "metadata": {
    "collapsed": false
   },
   "outputs": [
    {
     "data": {
      "image/png": "[encoded data removed]",
      "text/plain": [
       "<matplotlib.figure.Figure at 0x7f17f6459850>"
      ]
     },
     "metadata": {},
     "output_type": "display_data"
    }
   ],
   "source": [
    "plt.figure(figsize=(17, 5))\n",
    "plt.subplot(1, 2, 1)\n",
    "plt.plot(gd_inspector.obj, 'b')\n",
    "plt.plot(ista_inspector.obj, 'r')\n",
    "plt.plot(fista_inspector.obj, 'g')\n",
    "plt.title(\"Loss\", fontsize=18)\n",
    "plt.xlabel(\"iteration\", fontsize=14)\n",
    "plt.ylabel(\"value\", fontsize=14)\n",
    "plt.legend([\"gd\", \"ista\", \"fista\"])\n",
    "plt.subplot(1, 2, 2)\n",
    "plt.plot(gd_inspector.err, 'b')\n",
    "plt.plot(ista_inspector.err, 'r')\n",
    "plt.plot(fista_inspector.err, 'g')\n",
    "plt.title(\"Distance to x_real\", fontsize=18)\n",
    "plt.xlabel(\"iteration\", fontsize=14)\n",
    "plt.ylabel(\"distance\", fontsize=14)\n",
    "plt.legend([\"gd\", \"ista\", \"fista\"])\n",
    "plt.show()"
   ]
  }
 ],
 "metadata": {
  "kernelspec": {
   "display_name": "Python 2",
   "language": "python",
   "name": "python2"
  },
  "language_info": {
   "codemirror_mode": {
    "name": "ipython",
    "version": 2
   },
   "file_extension": ".py",
   "mimetype": "text/x-python",
   "name": "python",
   "nbconvert_exporter": "python",
   "pygments_lexer": "ipython2",
   "version": "2.7.10"
  }
 },
 "nbformat": 4,
 "nbformat_minor": 0
}
